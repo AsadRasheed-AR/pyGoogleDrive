{
 "cells": [
  {
   "cell_type": "code",
   "execution_count": 5,
   "metadata": {},
   "outputs": [],
   "source": [
    "from __future__ import print_function\n",
    "import os.path\n",
    "from googleapiclient.discovery import build\n",
    "from google_auth_oauthlib.flow import InstalledAppFlow\n",
    "from google.auth.transport.requests import Request\n",
    "from google.oauth2.credentials import Credentials\n",
    "from googleapiclient.http import MediaFileUpload\n",
    "import pandas as pd\n",
    "\n",
    "# If modifying these scopes, delete the file token.json.\n",
    "# SCOPES = ['https://www.googleapis.com/auth/drive.metadata.readonly']"
   ]
  },
  {
   "cell_type": "code",
   "execution_count": 6,
   "metadata": {},
   "outputs": [],
   "source": [
    "class gDriveApi:\n",
    "    def __init__(self):\n",
    "        self.SCOPES = ['https://www.googleapis.com/auth/drive']\n",
    "        self.service = None\n",
    "        self.parent_id = '1jHpe_YakansqGcDBlrvsSodJlb7ipHFs'\n",
    "        self.folder_id = None\n",
    "        self.pdf = 'application/pdf'\n",
    "        self.csv = 'text/csv'\n",
    "        self.child_folder_name = None\n",
    "        \n",
    "    def gDrive_login(self):\n",
    "        creds = None\n",
    "        # The file token.json stores the user's access and refresh tokens, and is\n",
    "        # created automatically when the authorization flow completes for the first\n",
    "        # time.\n",
    "        if os.path.exists('token.json'):\n",
    "            creds = Credentials.from_authorized_user_file('token.json', self.SCOPES)\n",
    "        # If there are no (valid) credentials available, let the user log in.\n",
    "        if not creds or not creds.valid:\n",
    "            if creds and creds.expired and creds.refresh_token:\n",
    "                creds.refresh(Request())\n",
    "            else:\n",
    "                flow = InstalledAppFlow.from_client_secrets_file(\n",
    "                    'credentials.json', self.SCOPES)\n",
    "                creds = flow.run_local_server(port=0)\n",
    "            # Save the credentials for the next run\n",
    "            with open('token.json', 'w') as token:\n",
    "                token.write(creds.to_json())\n",
    "\n",
    "        self.service = build('drive', 'v3', credentials=creds)\n",
    "    \n",
    "    def gDrive_readCsvFile(self,file_path):\n",
    "        self.child_folder_name = pd.read_csv(file_path,header=None)[0][0]\n",
    "        print(f'Child Folder Name = {self.child_folder_name}')\n",
    "    \n",
    "    def gDrive_createFolder(self,folder_name):\n",
    "        file_metadata = {\n",
    "            'name': folder_name,\n",
    "            'mimeType': 'application/vnd.google-apps.folder',\n",
    "            'parents': [gDrive_obj.parent_id]\n",
    "        }\n",
    "        file = self.service.files().create(body=file_metadata).execute()\n",
    "        print('Folder ID: %s' % file.get('id'))\n",
    "        self.folder_id = file.get('id')\n",
    "        print(f'Folder {folder_name} created successfully!')\n",
    "        \n",
    "    def gDrive_uploadfile(self,file_name,file_path,filetype,folder_id):\n",
    "        file_metadata = {\n",
    "            'name': file_name,\n",
    "            'parents': [str(folder_id)]\n",
    "        }\n",
    "        \n",
    "        media = MediaFileUpload(file_path , mimetype=filetype , resumable=True)\n",
    "        gDrive_obj.service.files().create(\n",
    "                                    body = file_metadata,\n",
    "                                    media_body= media,\n",
    "                                    fields = 'id').execute()\n",
    "        print(\"file uploaded Successfully !\")"
   ]
  },
  {
   "cell_type": "code",
   "execution_count": 7,
   "metadata": {},
   "outputs": [],
   "source": [
    "gDrive_obj = gDriveApi()"
   ]
  },
  {
   "cell_type": "code",
   "execution_count": 8,
   "metadata": {},
   "outputs": [
    {
     "name": "stdout",
     "output_type": "stream",
     "text": [
      "Child Folder Name = First_Child\n",
      "Folder ID: 10kJ0V6lQSPFpNBsjuPjlKE09-U4vc_zC\n",
      "Folder First_Child created successfully!\n",
      "file uploaded Successfully !\n"
     ]
    }
   ],
   "source": [
    "gDrive_obj.gDrive_login()\n",
    "gDrive_obj.gDrive_readCsvFile('E:\\Git_Repositories\\Freelancing\\GDriveAPi\\input.csv')\n",
    "gDrive_obj.gDrive_createFolder(gDrive_obj.child_folder_name)\n",
    "gDrive_obj.gDrive_uploadfile(file_name='demo.pdf',\n",
    "                            file_path='E:\\Git_Repositories\\Freelancing\\Elvis\\Merge_Files_And_Filter_And_save_date\\document_1.pdf',\n",
    "                            filetype=gDrive_obj.pdf,\n",
    "                            folder_id=gDrive_obj.folder_id)"
   ]
  },
  {
   "cell_type": "code",
   "execution_count": null,
   "metadata": {},
   "outputs": [],
   "source": []
  }
 ],
 "metadata": {
  "kernelspec": {
   "display_name": "Python 3",
   "language": "python",
   "name": "python3"
  },
  "language_info": {
   "codemirror_mode": {
    "name": "ipython",
    "version": 3
   },
   "file_extension": ".py",
   "mimetype": "text/x-python",
   "name": "python",
   "nbconvert_exporter": "python",
   "pygments_lexer": "ipython3",
   "version": "3.8.3"
  }
 },
 "nbformat": 4,
 "nbformat_minor": 4
}
